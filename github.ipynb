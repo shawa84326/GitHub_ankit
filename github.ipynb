{
  "nbformat": 4,
  "nbformat_minor": 0,
  "metadata": {
    "colab": {
      "provenance": [],
      "authorship_tag": "ABX9TyP2T16QM+pS4/ni8zk45swH",
      "include_colab_link": true
    },
    "kernelspec": {
      "name": "python3",
      "display_name": "Python 3"
    },
    "language_info": {
      "name": "python"
    }
  },
  "cells": [
    {
      "cell_type": "markdown",
      "metadata": {
        "id": "view-in-github",
        "colab_type": "text"
      },
      "source": [
        "<a href=\"https://colab.research.google.com/github/shawa84326/GitHub_ankit/blob/main/github.ipynb\" target=\"_parent\"><img src=\"https://colab.research.google.com/assets/colab-badge.svg\" alt=\"Open In Colab\"/></a>"
      ]
    },
    {
      "cell_type": "code",
      "execution_count": 2,
      "metadata": {
        "colab": {
          "base_uri": "https://localhost:8080/"
        },
        "id": "HZIGHTvSe1ue",
        "outputId": "d744fd5a-e7da-40f2-b32b-059ff18e4df1"
      },
      "outputs": [
        {
          "output_type": "stream",
          "name": "stdout",
          "text": [
            "......................\n",
            "......##########......\n",
            "......#~~~~~~~~#......\n",
            "......#~~~~~~~~#......\n",
            "......#~~~~~~~~#####..\n",
            "....###~~~~~~~~~~~~#..\n",
            "....#~~~~~~~~~~~~###..\n",
            "....##############....\n",
            "~~~~~~~~~~~~~~~~~~~~~~\n",
            "~~~~~~##########~~~~~~\n",
            "~~~~~~#~~~~~~~~#~~~~~~\n",
            "~~~~~~#~~~~~~~~#~~~~~~\n",
            "~~~~~~#~~~~~~~~#####~~\n",
            "~~~~###~~~~~~~~~~~~#~~\n",
            "~~~~#~~~~~~~~~~~~###~~\n",
            "~~~~##############~~~~\n"
          ]
        }
      ],
      "source": [
        "board = [\n",
        "    \"......................\",\n",
        "    \"......##########......\",\n",
        "    \"......#........#......\",\n",
        "    \"......#........#......\",\n",
        "    \"......#........#####..\",\n",
        "    \"....###............#..\",\n",
        "    \"....#............###..\",\n",
        "    \"....##############....\",\n",
        "]\n",
        "\n",
        "def flood_fill(input_board, old, new, x, y):\n",
        "    def fill(x, y):\n",
        "        if (\n",
        "            x < 0\n",
        "            or x >= len(input_board)\n",
        "            or y < 0\n",
        "            or y >= len(input_board[0])\n",
        "            or input_board[x][y] != old\n",
        "        ):\n",
        "            return\n",
        "\n",
        "        input_board[x] = input_board[x][:y] + new + input_board[x][y + 1:]\n",
        "\n",
        "        # Check in all four directions\n",
        "        fill(x + 1, y)\n",
        "        fill(x - 1, y)\n",
        "        fill(x, y + 1)\n",
        "        fill(x, y - 1)\n",
        "\n",
        "    fill(x, y)\n",
        "    return input_board\n",
        "\n",
        "modified_board = flood_fill(board, old=\".\", new=\"~\", x=5, y=12)\n",
        "\n",
        "for a in modified_board:\n",
        "    print(a)\n",
        "\n",
        "modified_board = flood_fill(board, old=\".\", new=\"~\", x=1, y=1)\n",
        "\n",
        "for a in modified_board:\n",
        "    print(a)\n"
      ]
    },
    {
      "cell_type": "code",
      "source": [],
      "metadata": {
        "id": "eu-SMInMf4-i"
      },
      "execution_count": null,
      "outputs": []
    }
  ]
}